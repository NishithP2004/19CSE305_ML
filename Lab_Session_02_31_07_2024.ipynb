{
  "nbformat": 4,
  "nbformat_minor": 0,
  "metadata": {
    "colab": {
      "provenance": [],
      "authorship_tag": "ABX9TyPBwUVVszKZuKzisKdoM2NG",
      "include_colab_link": true
    },
    "kernelspec": {
      "name": "python3",
      "display_name": "Python 3"
    },
    "language_info": {
      "name": "python"
    }
  },
  "cells": [
    {
      "cell_type": "markdown",
      "metadata": {
        "id": "view-in-github",
        "colab_type": "text"
      },
      "source": [
        "<a href=\"https://colab.research.google.com/github/NishithP2004/19CSE305_ML/blob/main/Lab_Session_02_31_07_2024.ipynb\" target=\"_parent\"><img src=\"https://colab.research.google.com/assets/colab-badge.svg\" alt=\"Open In Colab\"/></a>"
      ]
    },
    {
      "cell_type": "code",
      "execution_count": 34,
      "metadata": {
        "colab": {
          "base_uri": "https://localhost:8080/"
        },
        "id": "zkuAF-_YTdyD",
        "outputId": "5f2bb226-0ee4-45da-ae48-d4027a219ed7"
      },
      "outputs": [
        {
          "output_type": "stream",
          "name": "stdout",
          "text": [
            "  Customer  Candies (#)  Mangoes (Kg)  Milk Packets (#)  Payment (Rs)\n",
            "0      C_1           20             6                 2           386\n",
            "1      C_2           16             3                 6           289\n",
            "2      C_3           27             6                 2           393\n",
            "3      C_4           19             1                 2           110\n",
            "4      C_5           24             4                 2           280\n",
            "5      C_6           22             1                 5           167\n",
            "6      C_7           15             4                 2           271\n",
            "7      C_8           18             4                 2           274\n",
            "8      C_9           21             1                 4           148\n",
            "9     C_10           16             2                 4           198\n",
            "\n",
            "Dimensionality of DataFrame: (10, 5)\n",
            "\n",
            "Number of Vectors: 10\n",
            "\n",
            "Rank of A: 3\n",
            "\n",
            "X = A_inv * C\n",
            "[[ 1. 55. 18.]]\n"
          ]
        }
      ],
      "source": [
        "# A1, A2\n",
        "import pandas as pd\n",
        "import numpy as np\n",
        "\n",
        "df = pd.read_excel(\"./Lab Session Data.xlsx\", sheet_name=\"Purchase data\")\n",
        "\n",
        "purchase_data = df[[\"Customer\", \"Candies (#)\", \"Mangoes (Kg)\", \"Milk Packets (#)\", \"Payment (Rs)\"]]\n",
        "print(purchase_data)\n",
        "\n",
        "print(\"\\nDimensionality of DataFrame:\", purchase_data.shape)\n",
        "print(\"\\nNumber of Vectors:\", purchase_data.shape[0])\n",
        "\n",
        "A = purchase_data[[\"Candies (#)\", \"Mangoes (Kg)\", \"Milk Packets (#)\"]].to_numpy()\n",
        "C = purchase_data[[\"Payment (Rs)\"]].to_numpy()\n",
        "\n",
        "print(\"\\nRank of A:\", np.linalg.matrix_rank(A))\n",
        "\n",
        "A_inv = np.linalg.pinv(A)\n",
        "X = np.matmul(A_inv, C)\n",
        "print(\"\\nX = A_inv * C\")\n",
        "print(X.reshape(1, 3))"
      ]
    },
    {
      "cell_type": "markdown",
      "source": [],
      "metadata": {
        "id": "75VoidDUVwiN"
      }
    },
    {
      "cell_type": "code",
      "source": [
        "# A3\n",
        "\n",
        "payment = purchase_data[\"Payment (Rs)\"]\n",
        "\n",
        "# RICH = np.array([1, 0])\n",
        "# POOR = np.array([0, 1])\n",
        "purchase_data.loc[:, \"Classification\"] = ['RICH' if p > 200 else 'POOR' for p in payment]\n",
        "print(purchase_data)\n",
        "\n",
        "classification = purchase_data[\"Classification\"]\n",
        "\n",
        "# RICH = 0\n",
        "# POOR = 1\n",
        "L = np.array([0 if c == \"RICH\" else 1 for c in classification])\n",
        "Y = np.matmul(A_inv, L)\n",
        "\n",
        "print(Y)\n",
        "\n",
        "C_new = np.matmul(A, Y)\n",
        "t1 = [\"RICH\" if c <= 0.5 else \"POOR\" for c in C_new]\n",
        "\n",
        "print(t1)"
      ],
      "metadata": {
        "colab": {
          "base_uri": "https://localhost:8080/"
        },
        "id": "hjx2EV61esnt",
        "outputId": "6ddc92d9-980c-47e9-cc61-91acee0cfa6c"
      },
      "execution_count": 51,
      "outputs": [
        {
          "output_type": "stream",
          "name": "stdout",
          "text": [
            "  Customer  Candies (#)  Mangoes (Kg)  Milk Packets (#)  Payment (Rs)  \\\n",
            "0      C_1           20             6                 2           386   \n",
            "1      C_2           16             3                 6           289   \n",
            "2      C_3           27             6                 2           393   \n",
            "3      C_4           19             1                 2           110   \n",
            "4      C_5           24             4                 2           280   \n",
            "5      C_6           22             1                 5           167   \n",
            "6      C_7           15             4                 2           271   \n",
            "7      C_8           18             4                 2           274   \n",
            "8      C_9           21             1                 4           148   \n",
            "9     C_10           16             2                 4           198   \n",
            "\n",
            "  Classification  \n",
            "0           RICH  \n",
            "1           RICH  \n",
            "2           RICH  \n",
            "3           POOR  \n",
            "4           RICH  \n",
            "5           POOR  \n",
            "6           RICH  \n",
            "7           RICH  \n",
            "8           POOR  \n",
            "9           POOR  \n",
            "[ 0.05270682 -0.23283518  0.02706752]\n",
            "['RICH', 'RICH', 'RICH', 'POOR', 'RICH', 'POOR', 'RICH', 'RICH', 'POOR', 'RICH']\n"
          ]
        }
      ]
    }
  ]
}