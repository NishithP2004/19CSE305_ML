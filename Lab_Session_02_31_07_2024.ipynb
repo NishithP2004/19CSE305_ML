{
  "nbformat": 4,
  "nbformat_minor": 0,
  "metadata": {
    "colab": {
      "provenance": [],
      "authorship_tag": "ABX9TyMvje+igXOru8+xN44wHZi7",
      "include_colab_link": true
    },
    "kernelspec": {
      "name": "python3",
      "display_name": "Python 3"
    },
    "language_info": {
      "name": "python"
    }
  },
  "cells": [
    {
      "cell_type": "markdown",
      "metadata": {
        "id": "view-in-github",
        "colab_type": "text"
      },
      "source": [
        "<a href=\"https://colab.research.google.com/github/NishithP2004/19CSE305_ML/blob/main/Lab_Session_02_31_07_2024.ipynb\" target=\"_parent\"><img src=\"https://colab.research.google.com/assets/colab-badge.svg\" alt=\"Open In Colab\"/></a>"
      ]
    },
    {
      "cell_type": "markdown",
      "source": [
        "Nishith P\n",
        "\n",
        "BL.EN.U4CSE22138"
      ],
      "metadata": {
        "id": "6oVTDQFtyFcQ"
      }
    },
    {
      "cell_type": "code",
      "execution_count": 24,
      "metadata": {
        "colab": {
          "base_uri": "https://localhost:8080/"
        },
        "id": "zkuAF-_YTdyD",
        "outputId": "cdaaf9cd-1b26-4923-929f-77631dbfabc3"
      },
      "outputs": [
        {
          "output_type": "stream",
          "name": "stdout",
          "text": [
            "  Customer  Candies (#)  Mangoes (Kg)  Milk Packets (#)  Payment (Rs)\n",
            "0      C_1           20             6                 2           386\n",
            "1      C_2           16             3                 6           289\n",
            "2      C_3           27             6                 2           393\n",
            "3      C_4           19             1                 2           110\n",
            "4      C_5           24             4                 2           280\n",
            "5      C_6           22             1                 5           167\n",
            "6      C_7           15             4                 2           271\n",
            "7      C_8           18             4                 2           274\n",
            "8      C_9           21             1                 4           148\n",
            "9     C_10           16             2                 4           198\n",
            "\n",
            "Dimensionality of DataFrame: (10, 5)\n",
            "\n",
            "Number of Vectors: 10\n",
            "\n",
            "Rank of A: 3\n",
            "\n",
            "X = A_inv * C\n",
            "[[ 1. 55. 18.]]\n"
          ]
        }
      ],
      "source": [
        "# A1, A2\n",
        "import pandas as pd\n",
        "import numpy as np\n",
        "\n",
        "df = pd.read_excel(\"./Lab Session Data.xlsx\", sheet_name=\"Purchase data\")\n",
        "\n",
        "purchase_data = df[[\"Customer\", \"Candies (#)\", \"Mangoes (Kg)\", \"Milk Packets (#)\", \"Payment (Rs)\"]]\n",
        "print(purchase_data)\n",
        "\n",
        "print(\"\\nDimensionality of DataFrame:\", purchase_data.shape)\n",
        "print(\"\\nNumber of Vectors:\", purchase_data.shape[0])\n",
        "\n",
        "A = purchase_data[[\"Candies (#)\", \"Mangoes (Kg)\", \"Milk Packets (#)\"]].to_numpy()\n",
        "C = purchase_data[[\"Payment (Rs)\"]].to_numpy()\n",
        "\n",
        "print(\"\\nRank of A:\", np.linalg.matrix_rank(A))\n",
        "\n",
        "A_inv = np.linalg.pinv(A)\n",
        "X = np.matmul(A_inv, C)\n",
        "print(\"\\nX = A_inv * C\")\n",
        "print(X.reshape(1, 3))"
      ]
    },
    {
      "cell_type": "markdown",
      "source": [],
      "metadata": {
        "id": "75VoidDUVwiN"
      }
    },
    {
      "cell_type": "code",
      "source": [
        "# A3\n",
        "\n",
        "payment = purchase_data[\"Payment (Rs)\"]\n",
        "\n",
        "# RICH = np.array([1, 0])\n",
        "# POOR = np.array([0, 1])\n",
        "purchase_data.loc[:, \"Classification\"] = ['RICH' if p > 200 else 'POOR' for p in payment]\n",
        "print(purchase_data)\n",
        "\n",
        "classification = purchase_data[\"Classification\"]\n",
        "\n",
        "# RICH = 0\n",
        "# POOR = 1\n",
        "L = np.array([0 if c == \"RICH\" else 1 for c in classification])\n",
        "Y = np.matmul(A_inv, L)\n",
        "\n",
        "print(\"\\nY = A * L\")\n",
        "print(Y)\n",
        "print(\"\\n\")\n",
        "\n",
        "classified_label = np.matmul(A, Y)\n",
        "t1 = [\"RICH\" if c <= 0.5 else \"POOR\" for c in classified_label]\n",
        "\n",
        "print(t1)"
      ],
      "metadata": {
        "colab": {
          "base_uri": "https://localhost:8080/"
        },
        "id": "hjx2EV61esnt",
        "outputId": "c3a83ee5-76f8-43b6-a200-36ac12e6f644"
      },
      "execution_count": 31,
      "outputs": [
        {
          "output_type": "stream",
          "name": "stdout",
          "text": [
            "  Customer  Candies (#)  Mangoes (Kg)  Milk Packets (#)  Payment (Rs)  \\\n",
            "0      C_1           20             6                 2           386   \n",
            "1      C_2           16             3                 6           289   \n",
            "2      C_3           27             6                 2           393   \n",
            "3      C_4           19             1                 2           110   \n",
            "4      C_5           24             4                 2           280   \n",
            "5      C_6           22             1                 5           167   \n",
            "6      C_7           15             4                 2           271   \n",
            "7      C_8           18             4                 2           274   \n",
            "8      C_9           21             1                 4           148   \n",
            "9     C_10           16             2                 4           198   \n",
            "\n",
            "  Classification  \n",
            "0           RICH  \n",
            "1           RICH  \n",
            "2           RICH  \n",
            "3           POOR  \n",
            "4           RICH  \n",
            "5           POOR  \n",
            "6           RICH  \n",
            "7           RICH  \n",
            "8           POOR  \n",
            "9           POOR  \n",
            "\n",
            "Y = A * L\n",
            "[ 0.05270682 -0.23283518  0.02706752]\n",
            "\n",
            "\n",
            "['RICH', 'RICH', 'RICH', 'POOR', 'RICH', 'POOR', 'RICH', 'RICH', 'POOR', 'RICH']\n"
          ]
        }
      ]
    },
    {
      "cell_type": "code",
      "source": [
        "# A4\n",
        "import statistics as st\n",
        "\n",
        "irctc_stock = pd.read_excel(\"./Lab Session Data.xlsx\", sheet_name=\"IRCTC Stock Price\")\n",
        "\n",
        "print(irctc_stock)\n",
        "\n",
        "col_d = irctc_stock[\"Price\"]\n",
        "mean = st.mean(col_d)\n",
        "variance = st.variance(col_d)\n",
        "\n",
        "print(f\"Mean: {mean}\")\n",
        "print(f\"Variance: {variance}\")\n",
        "\n",
        "wed_price = irctc_stock[\"Price\"][irctc_stock[\"Day\"] == \"Wed\"]\n",
        "wed_mean = st.mean(wed_price)\n",
        "wed_variance = st.variance(wed_price)\n",
        "\n",
        "print(\"\\n\")\n",
        "print(f\"Wed Mean: {wed_mean}\")\n",
        "print(f\"Wed Variance: {wed_variance}\")\n",
        "\n",
        "apr_price = irctc_stock[\"Price\"][irctc_stock[\"Month\"] == \"Apr\"]\n",
        "apr_mean = st.mean(apr_price)\n",
        "apr_variance = st.variance(apr_price)\n",
        "\n",
        "print(\"\\n\")\n",
        "print(f\"Apr Mean: {apr_mean}\")\n",
        "print(f\"Apr Variance: {apr_variance}\")\n",
        "print(\"\\n\")\n",
        "\n",
        "loss = len(list(filter(lambda a: float(a) < 0, irctc_stock[\"Chg%\"])))\n",
        "total = len(irctc_stock[\"Chg%\"])\n",
        "prob_loss = (loss / total) * 100\n",
        "\n",
        "print(f\"Probability of Loss: {prob_loss} %\")\n",
        "\n",
        "wed_chgs = irctc_stock[\"Chg%\"][irctc_stock[\"Day\"] == \"Wed\"]\n",
        "wed_total = len(wed_chgs)\n",
        "wed_profit = len(list(filter(lambda a: float(a) > 0, wed_chgs)))\n",
        "wed_prob_profit = (wed_profit / wed_total) * 100\n",
        "\n",
        "print(f\"Probability of Profit on Wednesday: {wed_prob_profit} %\")\n",
        "\n",
        "# Conditional Probability\n",
        "G_int_W = len(list(filter(lambda a: float(a) > 0, irctc_stock[\"Chg%\"][irctc_stock[\"Day\"] == \"Wed\"]))) / total\n",
        "prob_W = wed_total / total\n",
        "cond_prob_G_W = (G_int_W / prob_W) * 100\n",
        "\n",
        "print(f\"Conditional Probability P(G / w): {cond_prob_G_W} %\")\n",
        "\n",
        "# Plotting a Scatter Plot\n",
        "\n",
        "import matplotlib.pyplot as plt\n",
        "\n",
        "plt.scatter(irctc_stock[\"Day\"], irctc_stock[\"Chg%\"])\n",
        "\n",
        "plt.xlabel(\"Days of the Week\")\n",
        "plt.ylabel(\"Charge %\")"
      ],
      "metadata": {
        "colab": {
          "base_uri": "https://localhost:8080/",
          "height": 1000
        },
        "id": "K2psvjhEXG78",
        "outputId": "db535959-d4ea-4a25-ffc9-ce5d37277f37"
      },
      "execution_count": 26,
      "outputs": [
        {
          "output_type": "stream",
          "name": "stdout",
          "text": [
            "             Date Month  Day    Price     Open     High      Low   Volume  \\\n",
            "0    Jun 29, 2021   Jun  Tue  2081.85  2092.00  2126.90  2065.05    1.67M   \n",
            "1    Jun 28, 2021   Jun  Mon  2077.75  2084.00  2112.45  2068.40  707.73K   \n",
            "2    Jun 25, 2021   Jun  Fri  2068.85  2084.35  2088.50  2053.10  475.82K   \n",
            "3    Jun 24, 2021   Jun  Thu  2072.95  2098.00  2098.00  2066.00  541.51K   \n",
            "4    Jun 23, 2021   Jun  Wed  2078.25  2102.00  2111.40  2072.00  809.62K   \n",
            "..            ...   ...  ...      ...      ...      ...      ...      ...   \n",
            "244  Jul 07, 2020   Jul  Tue  1397.40  1410.00  1411.00  1390.05  480.21K   \n",
            "245  Jul 06, 2020   Jul  Mon  1400.75  1405.50  1415.50  1394.00  614.93K   \n",
            "246  Jul 03, 2020   Jul  Fri  1405.10  1415.00  1425.00  1398.00  599.49K   \n",
            "247  Jul 02, 2020   Jul  Thu  1412.35  1440.00  1467.80  1395.30    2.16M   \n",
            "248  Jul 01, 2020   Jul  Wed  1363.05  1363.65  1377.00  1356.00  383.00K   \n",
            "\n",
            "       Chg%  \n",
            "0    0.0020  \n",
            "1    0.0043  \n",
            "2   -0.0020  \n",
            "3   -0.0026  \n",
            "4   -0.0023  \n",
            "..      ...  \n",
            "244 -0.0024  \n",
            "245 -0.0031  \n",
            "246 -0.0051  \n",
            "247  0.0362  \n",
            "248  0.0032  \n",
            "\n",
            "[249 rows x 9 columns]\n",
            "Mean: 1560.663453815261\n",
            "Variance: 58732.365352539186\n",
            "\n",
            "\n",
            "Wed Mean: 1550.706\n",
            "Wed Variance: 57939.550167346926\n",
            "\n",
            "\n",
            "Apr Mean: 1698.9526315789474\n",
            "Apr Variance: 4877.621798245614\n",
            "\n",
            "\n",
            "Probability of Loss: 49.79919678714859 %\n",
            "Probability of Profit on Wednesday: 42.0 %\n",
            "Conditional Probability P(G / w): 42.0 %\n"
          ]
        },
        {
          "output_type": "execute_result",
          "data": {
            "text/plain": [
              "Text(0, 0.5, 'Charge %')"
            ]
          },
          "metadata": {},
          "execution_count": 26
        },
        {
          "output_type": "display_data",
          "data": {
            "text/plain": [
              "<Figure size 640x480 with 1 Axes>"
            ],
            "image/png": "[encoded data removed]"
          },
          "metadata": {}
        }
      ]
    },
    {
      "cell_type": "code",
      "source": [
        "# A5 - A7\n",
        "import statistics as st\n",
        "\n",
        "na_values = [np.NaN, \"?\", \"NaN\", None, np.nan, np.NAN]\n",
        "\n",
        "def fill_categorical_data(v):\n",
        "  mode = st.mode(v)\n",
        "\n",
        "  return pd.Series(v).fillna(mode)\n",
        "\n",
        "def z_score(x, mean, sd):\n",
        "  return (x - mean) / sd\n",
        "\n",
        "def has_outlier(v, mean, sd):\n",
        "  for i in range(len(v)):\n",
        "    if not pd.isna(v[i]) and abs(z_score(v[i], mean, sd)) >= 3:\n",
        "      return True\n",
        "  return False\n",
        "\n",
        "def fill_nominal_data(v):\n",
        "  v = pd.Series(v)\n",
        "  mean = v.mean()\n",
        "  sd = v.std()\n",
        "  median = v.median()\n",
        "  has_outlier_v = has_outlier(v, mean, sd)\n",
        "\n",
        "  for i in range(len(v)):\n",
        "    if pd.isna(v[i]):\n",
        "      v[i] = mean\n",
        "    elif abs(z_score(v[i], mean, sd)) >= 3:\n",
        "      v[i] = median\n",
        "\n",
        "  return v.to_numpy()\n",
        "\n",
        "\n",
        "thyroid_ds = pd.read_excel(\"./Lab Session Data.xlsx\", sheet_name=\"thyroid0387_UCI\", na_values=na_values)\n",
        "\n",
        "thyroid_ds[\"sex\"] = fill_categorical_data(thyroid_ds[\"sex\"])\n",
        "nominal_data = [\"TSH\", \"T3\", \"TT4\", \"T4U\", \"FTI\", \"TBG\"]\n",
        "\n",
        "for value in nominal_data:\n",
        "  thyroid_ds[value] = fill_nominal_data(thyroid_ds[value])\n",
        "\n",
        "categorical_data = [\"sex\", \"on thyroxine\", \"query on thyroxine\", \"on antithyroid medication\", \"sick\", \"pregnant\", \"thyroid surgery\", \"I131 treatment\", \"query hypothyroid\", \"query hyperthyroid\", \"lithium\", \"goitre\", \"tumor\", \"hypopituitary\", \"psych\", \"TSH measured\", \"T3 measured\", \"TT4 measured\", \"T4U measured\", \"FTI measured\", \"TBG measured\", \"referral source\", \"Condition\"]\n",
        "\n",
        "print(thyroid_ds.isnull().sum())"
      ],
      "metadata": {
        "colab": {
          "base_uri": "https://localhost:8080/"
        },
        "id": "tgTUm24NwUZp",
        "outputId": "bbd73315-73f2-4f55-b99a-2ee21906684a"
      },
      "execution_count": 27,
      "outputs": [
        {
          "output_type": "stream",
          "name": "stdout",
          "text": [
            "Record ID                    0\n",
            "age                          0\n",
            "sex                          0\n",
            "on thyroxine                 0\n",
            "query on thyroxine           0\n",
            "on antithyroid medication    0\n",
            "sick                         0\n",
            "pregnant                     0\n",
            "thyroid surgery              0\n",
            "I131 treatment               0\n",
            "query hypothyroid            0\n",
            "query hyperthyroid           0\n",
            "lithium                      0\n",
            "goitre                       0\n",
            "tumor                        0\n",
            "hypopituitary                0\n",
            "psych                        0\n",
            "TSH measured                 0\n",
            "TSH                          0\n",
            "T3 measured                  0\n",
            "T3                           0\n",
            "TT4 measured                 0\n",
            "TT4                          0\n",
            "T4U measured                 0\n",
            "T4U                          0\n",
            "FTI measured                 0\n",
            "FTI                          0\n",
            "TBG measured                 0\n",
            "TBG                          0\n",
            "referral source              0\n",
            "Condition                    0\n",
            "dtype: int64\n"
          ]
        }
      ]
    },
    {
      "cell_type": "code",
      "source": [
        "# A8\n",
        "\n",
        "def f(v1, v2):\n",
        "  f00 = 0\n",
        "  f01 = 0\n",
        "  f10 = 0\n",
        "  f11 = 0\n",
        "\n",
        "  for i in range(len(v1)):\n",
        "    if v1[i] == 0 and v2[i] == 0:\n",
        "      f00 += 1\n",
        "    elif v1[i] == 0 and v2[i] == 1:\n",
        "      f01 += 1\n",
        "    elif v1[i] == 1 and v2[i] == 0:\n",
        "      f10 += 1\n",
        "    elif v1[i] == 1 and v2[i] == 1:\n",
        "      f11 += 1\n",
        "\n",
        "  return f00, f01, f10, f11\n",
        "\n",
        "def JC(v1, v2):\n",
        "  f00, f01, f10, f11 = f(v1, v2)\n",
        "\n",
        "  return ((f11) / (f01 + f10 + f11))\n",
        "\n",
        "def SMC(v1, v2):\n",
        "  f00, f01, f10, f11 = f(v1, v2)\n",
        "\n",
        "  return ((f11 + f00) / (f00 + f01 + f10 + f11))\n",
        "\n",
        "features_vec = thyroid_ds.loc[:1, [\"sex\", \"on thyroxine\", \"query on thyroxine\", \"on antithyroid medication\", \"sick\", \"pregnant\", \"thyroid surgery\", \"I131 treatment\", \"query hypothyroid\", \"query hyperthyroid\", \"lithium\", \"goitre\", \"tumor\", \"hypopituitary\", \"psych\", \"TSH measured\", \"T3 measured\", \"TT4 measured\", \"T4U measured\", \"FTI measured\", \"TBG measured\"]]\n",
        "print(features_vec)\n",
        "\n",
        "v1 = [0 if f.lower() == 'f' else 1 for f in features_vec.iloc[0]]\n",
        "v2 = [0 if f.lower() == 'f' else 1 for f in features_vec.iloc[1]]\n",
        "\n",
        "print(f\"JC = {JC(v1, v2)}\")\n",
        "print(f\"SMC = {SMC(v1, v2)}\")"
      ],
      "metadata": {
        "colab": {
          "base_uri": "https://localhost:8080/"
        },
        "id": "At129WCn5C_B",
        "outputId": "d77fd63e-f7b5-4d6c-8825-6e685590723c"
      },
      "execution_count": 28,
      "outputs": [
        {
          "output_type": "stream",
          "name": "stdout",
          "text": [
            "  sex on thyroxine query on thyroxine on antithyroid medication sick pregnant  \\\n",
            "0   F            f                  f                         f    f        f   \n",
            "1   F            f                  f                         f    f        f   \n",
            "\n",
            "  thyroid surgery I131 treatment query hypothyroid query hyperthyroid  ...  \\\n",
            "0               f              f                 t                  f  ...   \n",
            "1               f              f                 f                  f  ...   \n",
            "\n",
            "  goitre tumor hypopituitary psych TSH measured T3 measured TT4 measured  \\\n",
            "0      f     f             f     f            t           f            f   \n",
            "1      f     f             f     f            t           t            t   \n",
            "\n",
            "  T4U measured FTI measured TBG measured  \n",
            "0            f            f            f  \n",
            "1            f            f            f  \n",
            "\n",
            "[2 rows x 21 columns]\n",
            "JC = 0.25\n",
            "SMC = 0.8571428571428571\n"
          ]
        }
      ]
    },
    {
      "cell_type": "code",
      "source": [
        "# A9\n",
        "\n",
        "def cosine_similarity(v1, v2):\n",
        "  dot_product = np.dot(v1, v2)\n",
        "  norm_v1 = np.linalg.norm(v1)\n",
        "  norm_v2 = np.linalg.norm(v2)\n",
        "\n",
        "  cos_sim = dot_product / (norm_v1 * norm_v2)\n",
        "\n",
        "  return cos_sim\n",
        "\n",
        "thyroid_ds_encoded = pd.get_dummies(thyroid_ds)\n",
        "\n",
        "d1_vec = thyroid_ds_encoded.iloc[0].to_numpy()\n",
        "d2_vec = thyroid_ds_encoded.iloc[1].to_numpy()\n",
        "\n",
        "cos_sim = cosine_similarity(d1_vec, d2_vec)\n",
        "print(f\"Cosine Similarity: {cos_sim}\")"
      ],
      "metadata": {
        "colab": {
          "base_uri": "https://localhost:8080/"
        },
        "id": "52edKjhBF49p",
        "outputId": "8e26b86f-bb86-479e-9838-120d6129715a"
      },
      "execution_count": 29,
      "outputs": [
        {
          "output_type": "stream",
          "name": "stdout",
          "text": [
            "Cosine Similarity: 0.9999999999999997\n"
          ]
        }
      ]
    },
    {
      "cell_type": "code",
      "source": [
        "# A10\n",
        "import seaborn as sns\n",
        "\n",
        "n = 20\n",
        "similarities = []\n",
        "for i in range(n):\n",
        "  v1 = thyroid_ds_encoded.iloc[i].to_numpy()\n",
        "  v2 = thyroid_ds_encoded.iloc[i+1].to_numpy()\n",
        "\n",
        "  JC_v = JC(v1, v2)\n",
        "  SMC_v = SMC(v1, v2)\n",
        "  cos_sim = cosine_similarity(v1, v2)\n",
        "\n",
        "  print(f\"Iteration {i+1}: \")\n",
        "\n",
        "  print(f\"JC = {JC_v}\")\n",
        "  print(f\"SMC = {SMC_v}\")\n",
        "  print(f\"Cosine Similarity: {cos_sim}\")\n",
        "  print(\"\\n\")\n",
        "\n",
        "  similarities.append({\n",
        "      \"JC\": JC_v,\n",
        "      \"SMC\": SMC_v,\n",
        "      \"Cosine_Similarity\": cos_sim\n",
        "  })\n",
        "\n",
        "similarities_df = pd.DataFrame(similarities)\n",
        "\n",
        "sns.heatmap(similarities_df, annot=True)\n"
      ],
      "metadata": {
        "id": "KWJMioBwGwc-",
        "colab": {
          "base_uri": "https://localhost:8080/",
          "height": 1000
        },
        "outputId": "a25a5768-fa10-4ebe-87c4-7b0099c15e24"
      },
      "execution_count": 30,
      "outputs": [
        {
          "output_type": "stream",
          "name": "stdout",
          "text": [
            "Iteration 1: \n",
            "JC = 0.7692307692307693\n",
            "SMC = 0.925\n",
            "Cosine Similarity: 0.9999999999999997\n",
            "\n",
            "\n",
            "Iteration 2: \n",
            "JC = 0.6428571428571429\n",
            "SMC = 0.875\n",
            "Cosine Similarity: 0.9999999999999997\n",
            "\n",
            "\n",
            "Iteration 3: \n",
            "JC = 0.9166666666666666\n",
            "SMC = 0.975\n",
            "Cosine Similarity: 0.9999999999999998\n",
            "\n",
            "\n",
            "Iteration 4: \n",
            "JC = 0.9166666666666666\n",
            "SMC = 0.975\n",
            "Cosine Similarity: 0.9999999999999998\n",
            "\n",
            "\n",
            "Iteration 5: \n",
            "JC = 0.9166666666666666\n",
            "SMC = 0.975\n",
            "Cosine Similarity: 0.9999999999999992\n",
            "\n",
            "\n",
            "Iteration 6: \n",
            "JC = 1.0\n",
            "SMC = 1.0\n",
            "Cosine Similarity: 0.9999999999999998\n",
            "\n",
            "\n",
            "Iteration 7: \n",
            "JC = 0.6428571428571429\n",
            "SMC = 0.875\n",
            "Cosine Similarity: 0.9999999999999986\n",
            "\n",
            "\n",
            "Iteration 8: \n",
            "JC = 0.9166666666666666\n",
            "SMC = 0.975\n",
            "Cosine Similarity: 0.9999999999999991\n",
            "\n",
            "\n",
            "Iteration 9: \n",
            "JC = 1.0\n",
            "SMC = 1.0\n",
            "Cosine Similarity: 1.0\n",
            "\n",
            "\n",
            "Iteration 10: \n",
            "JC = 1.0\n",
            "SMC = 1.0\n",
            "Cosine Similarity: 0.9999999999999974\n",
            "\n",
            "\n",
            "Iteration 11: \n",
            "JC = 1.0\n",
            "SMC = 1.0\n",
            "Cosine Similarity: 0.9999999999999992\n",
            "\n",
            "\n",
            "Iteration 12: \n",
            "JC = 0.7037037037037037\n",
            "SMC = 0.9\n",
            "Cosine Similarity: 1.0\n",
            "\n",
            "\n",
            "Iteration 13: \n",
            "JC = 0.7037037037037037\n",
            "SMC = 0.9\n",
            "Cosine Similarity: 1.0000000000000002\n",
            "\n",
            "\n",
            "Iteration 14: \n",
            "JC = 0.7692307692307693\n",
            "SMC = 0.925\n",
            "Cosine Similarity: 1.0\n",
            "\n",
            "\n",
            "Iteration 15: \n",
            "JC = 0.7037037037037037\n",
            "SMC = 0.9\n",
            "Cosine Similarity: 0.9999999999999994\n",
            "\n",
            "\n",
            "Iteration 16: \n",
            "JC = 0.7037037037037037\n",
            "SMC = 0.9\n",
            "Cosine Similarity: 0.9999999999999991\n",
            "\n",
            "\n",
            "Iteration 17: \n",
            "JC = 0.7692307692307693\n",
            "SMC = 0.925\n",
            "Cosine Similarity: 1.0\n",
            "\n",
            "\n",
            "Iteration 18: \n",
            "JC = 0.4838709677419355\n",
            "SMC = 0.8\n",
            "Cosine Similarity: 0.9999999999999906\n",
            "\n",
            "\n",
            "Iteration 19: \n",
            "JC = 0.5862068965517241\n",
            "SMC = 0.85\n",
            "Cosine Similarity: 0.9999999999999942\n",
            "\n",
            "\n",
            "Iteration 20: \n",
            "JC = 0.6428571428571429\n",
            "SMC = 0.875\n",
            "Cosine Similarity: 1.0\n",
            "\n",
            "\n"
          ]
        },
        {
          "output_type": "execute_result",
          "data": {
            "text/plain": [
              "<Axes: >"
            ]
          },
          "metadata": {},
          "execution_count": 30
        },
        {
          "output_type": "display_data",
          "data": {
            "text/plain": [
              "<Figure size 640x480 with 2 Axes>"
            ],
            "image/png": "[encoded data removed]"
          },
          "metadata": {}
        }
      ]
    }
  ]
}