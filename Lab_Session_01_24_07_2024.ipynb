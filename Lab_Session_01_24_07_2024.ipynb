{
  "nbformat": 4,
  "nbformat_minor": 0,
  "metadata": {
    "colab": {
      "provenance": []
    },
    "kernelspec": {
      "name": "python3",
      "display_name": "Python 3"
    },
    "language_info": {
      "name": "python"
    }
  },
  "cells": [
    {
      "cell_type": "markdown",
      "source": [
        "**Set B**\n",
        "\n",
        "**Group Name**: Paradox\n",
        "\n",
        "Nishith P\n",
        "\n",
        "BL.EN.U4CSE22138"
      ],
      "metadata": {
        "id": "A7BnHuMRQpuD"
      }
    },
    {
      "cell_type": "code",
      "source": [
        "# Q1\n",
        "import re\n",
        "\n",
        "# Get input string from user\n",
        "str = input(\"Enter a string: \")\n",
        "\n",
        "def count(str):\n",
        "  # Regular expression for vowels\n",
        "  vowels_re = r\"[aeiou]{1}\"\n",
        "  # Regular expression for consonants\n",
        "  consonants_re = r\"[^aeiou\\s\\d]{1}\"\n",
        "\n",
        "  # Print the found vowels\n",
        "  print(re.findall(vowels_re, str))\n",
        "  # Print the found consonants\n",
        "  print(re.findall(consonants_re, str))\n",
        "  # Return a dictionary containing the count of vowels and consonants\n",
        "  return {\n",
        "      \"v\": len(re.findall(vowels_re, str)),\n",
        "      \"c\": len(re.findall(consonants_re, str))\n",
        "  }\n",
        "\n",
        "# Call the count function and store the result in 'c'\n",
        "c = count(str)\n",
        "\n",
        "# Print the count of vowels and consonants\n",
        "print(f'Vowels: {c[\"v\"]}\\nConsonants: {c[\"c\"]}')\n",
        "content_copy\n",
        "Use code with caution.\n",
        "Python"
      ],
      "metadata": {
        "colab": {
          "base_uri": "https://localhost:8080/"
        },
        "id": "zVu10RW_RUua",
        "outputId": "01520b67-3ba1-4691-c19f-af787547df15"
      },
      "execution_count": null,
      "outputs": [
        {
          "output_type": "stream",
          "name": "stdout",
          "text": [
            "Enter a string: Hello World\n",
            "['e', 'o', 'o']\n",
            "['H', 'l', 'l', 'W', 'r', 'l', 'd']\n",
            "Vowels: 3\n",
            "Consonants: 7\n"
          ]
        }
      ]
    },
    {
      "cell_type": "code",
      "source": [
        "# Q2\n",
        "\n",
        "# Function to take matrix input from the user\n",
        "def input_matrix():\n",
        "  # Initialize an empty matrix\n",
        "  matrix = []\n",
        "\n",
        "  # Get number of rows and columns from the user\n",
        "  m = int(input(\"Enter the number of rows: \"))\n",
        "  n = int(input(\"Enter the number of cols: \"))\n",
        "\n",
        "  # Iterate through each row\n",
        "  for i in range(m):\n",
        "    # Initialize an empty list to store the row elements\n",
        "    rows = []\n",
        "    # Iterate through each column in the current row\n",
        "    for j in range(n):\n",
        "      # Get the element value from the user and append it to the row list\n",
        "      rows.append(int(input()))\n",
        "    # Append the row list to the matrix\n",
        "    matrix.append(rows)\n",
        "\n",
        "  # Return the matrix, number of rows, and number of columns\n",
        "  return matrix, m, n\n",
        "\n",
        "# Function to multiply two matrices\n",
        "def matrix_mul(A, B, d):\n",
        "  # Get dimensions from the dictionary 'd'\n",
        "  r1 = d[\"r1\"]\n",
        "  c1 = d[\"c1\"]\n",
        "\n",
        "  r2 = d[\"r2\"]\n",
        "  c2 = d[\"c2\"]\n",
        "\n",
        "  # Initialize the result matrix with zeros\n",
        "  M = [[0] * r1 for l in range(c2)]\n",
        "\n",
        "  # Iterate through each row of the result matrix\n",
        "  for i in range(r1):\n",
        "    # Iterate through each column of the result matrix\n",
        "    for j in range(c2):\n",
        "      # Initialize the element at (i, j) to 0\n",
        "      M[i][j] = 0\n",
        "      # Iterate through each element in the common dimension (r2)\n",
        "      for k in range(r2):\n",
        "        # Calculate the element at (i, j) using the dot product formula\n",
        "        M[i][j] += A[i][k] * B[k][j]\n",
        "\n",
        "  # Return the result matrix\n",
        "  return M;\n",
        "\n",
        "# Print \"A:\"\n",
        "print(\"A:\")\n",
        "# Get matrix A from the user and store its dimensions\n",
        "A, r1, c1 = input_matrix();\n",
        "print(\"\\n\")\n",
        "\n",
        "# Print \"B:\"\n",
        "print(\"B:\")\n",
        "# Get matrix B from the user and store its dimensions\n",
        "B, r2, c2 = input_matrix();\n",
        "print(\"\\n\")\n",
        "\n",
        "# Check if the matrices have compatible dimensions for multiplication\n",
        "if c1 != r2:\n",
        "  print(\"Invalid Dimensions\")\n",
        "else:\n",
        "  # Create a dictionary to store the dimensions of the matrices\n",
        "  d ={\n",
        "      \"r1\": r1,\n",
        "      \"c1\": c1,\n",
        "      \"r2\": r2,\n",
        "      \"c2\": c2\n",
        "  }\n",
        "  # Perform matrix multiplication and store the result in 'M'\n",
        "  M = matrix_mul(A, B, d)\n",
        "\n",
        "  # Print the result matrix\n",
        "  print(M)"
      ],
      "metadata": {
        "colab": {
          "base_uri": "https://localhost:8080/"
        },
        "id": "ukpZdo47VJgK",
        "outputId": "622900db-4042-4ba0-9c84-27798abbe4d3"
      },
      "execution_count": null,
      "outputs": [
        {
          "output_type": "stream",
          "name": "stdout",
          "text": [
            "A:\n",
            "Enter the number of rows: 3\n",
            "Enter the number of cols: 2\n",
            "1\n",
            "2\n",
            "3\n",
            "4\n",
            "5\n",
            "6\n",
            "\n",
            "\n",
            "B:\n",
            "Enter the number of rows: 2\n",
            "Enter the number of cols: 3\n",
            "1\n",
            "2\n",
            "3\n",
            "4\n",
            "5\n",
            "6\n",
            "\n",
            "\n",
            "[[9, 12, 15], [19, 26, 33], [29, 40, 51]]\n"
          ]
        }
      ]
    },
    {
      "cell_type": "code",
      "source": [
        "# Q3\n",
        "\n",
        "# Get input lists from the user, split them by comma and space, and convert them to sets\n",
        "a1 = set(input(\"Enter List 1: \").split(\", \"))\n",
        "a2 = set(input(\"Enter List 2: \").split(\", \"))\n",
        "\n",
        "# Find the intersection of the two sets using the '&' operator and print the result\n",
        "print(a1 & a2)"
      ],
      "metadata": {
        "colab": {
          "base_uri": "https://localhost:8080/"
        },
        "id": "Izj0nwSnVW38",
        "outputId": "349bde11-21af-4aea-b99f-a55fa9e3a4aa"
      },
      "execution_count": null,
      "outputs": [
        {
          "output_type": "stream",
          "name": "stdout",
          "text": [
            "Enter List 1: 1, 2, 3, 4, 5, 6\n",
            "Enter List 2: 6, 2, 1, 9, 10, 11\n",
            "{'1', '2', '6'}\n"
          ]
        }
      ]
    },
    {
      "cell_type": "code",
      "source": [
        "# Q4\n",
        "\n",
        "# Function to take input for a square matrix\n",
        "def input_matrix():\n",
        "  # Initialize an empty matrix\n",
        "  matrix = []\n",
        "\n",
        "  # Get the dimension (n) of the square matrix from the user\n",
        "  n = int(input(\"Enter the dimensions of the matrix (n): \"))\n",
        "\n",
        "  # Iterate through each row\n",
        "  for i in range(n):\n",
        "    # Initialize an empty list to store the row elements\n",
        "    rows = []\n",
        "    # Iterate through each column in the current row\n",
        "    for j in range(n):\n",
        "      # Get the element value from the user and append it to the row list\n",
        "      rows.append(int(input()))\n",
        "    # Append the row list to the matrix\n",
        "    matrix.append(rows)\n",
        "\n",
        "  # Return the matrix\n",
        "  return matrix\n",
        "\n",
        "# Function to transpose a matrix\n",
        "def transpose(A):\n",
        "  # Initialize an empty matrix for the transpose\n",
        "  B = []\n",
        "\n",
        "  # Iterate through each row of the original matrix\n",
        "  for i in range(len(A)):\n",
        "    # Initialize an empty list to store the elements of the transposed row\n",
        "    rows = []\n",
        "\n",
        "    # Iterate through each column of the original matrix\n",
        "    for j in range(len(A[0])):\n",
        "      # Append the element at (j, i) of the original matrix to the current row of the transposed matrix\n",
        "      rows.append(A[j][i])\n",
        "    # Append the transposed row to the transposed matrix\n",
        "    B.append(rows)\n",
        "  # Return the transposed matrix\n",
        "  return B\n",
        "\n",
        "# Get the input matrix from the user\n",
        "A = input_matrix()\n",
        "# Print the original matrix\n",
        "print(\"\\nOriginal Matrix: \")\n",
        "print(A)\n",
        "print(\"\\n\")\n",
        "\n",
        "# Transpose the matrix and store the result in 'T'\n",
        "T = transpose(A)\n",
        "# Print the transposed matrix\n",
        "print(\"Transposed Matrix: \")\n",
        "print(T)\n",
        "print(\"\\n\")"
      ],
      "metadata": {
        "colab": {
          "base_uri": "https://localhost:8080/"
        },
        "id": "3VznDW5gVwKf",
        "outputId": "78f852a9-3db1-4cbf-bf08-9a8e295f205d"
      },
      "execution_count": null,
      "outputs": [
        {
          "output_type": "stream",
          "name": "stdout",
          "text": [
            "Enter the dimensions of the matrix (n): 4\n",
            "1\n",
            "2\n",
            "3\n",
            "4\n",
            "5\n",
            "6\n",
            "7\n",
            "8\n",
            "9\n",
            "10\n",
            "11\n",
            "12\n",
            "13\n",
            "14\n",
            "15\n",
            "16\n",
            "\n",
            "Original Matrix: \n",
            "[[1, 2, 3, 4], [5, 6, 7, 8], [9, 10, 11, 12], [13, 14, 15, 16]]\n",
            "\n",
            "\n",
            "Transposed Matrix: \n",
            "[[1, 5, 9, 13], [2, 6, 10, 14], [3, 7, 11, 15], [4, 8, 12, 16]]\n",
            "\n",
            "\n"
          ]
        }
      ]
    }
  ]
}